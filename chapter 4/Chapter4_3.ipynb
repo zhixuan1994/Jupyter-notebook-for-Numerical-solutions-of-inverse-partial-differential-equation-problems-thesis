{
  "nbformat": 4,
  "nbformat_minor": 0,
  "metadata": {
    "colab": {
      "provenance": []
    },
    "kernelspec": {
      "name": "python3",
      "display_name": "Python 3"
    },
    "language_info": {
      "name": "python"
    }
  },
  "cells": [
    {
      "cell_type": "code",
      "execution_count": null,
      "metadata": {
        "id": "7Dh0UqhdNIn7"
      },
      "outputs": [],
      "source": [
        "import numpy as np\n",
        "import matplotlib.pyplot as plt\n",
        "from numpy import linalg as LA\n",
        "import pandas as pd\n",
        "import itertools  \n",
        "from tqdm import tqdm\n",
        "\n",
        "from sklearn.metrics import mean_squared_error\n",
        "from sklearn.metrics import mean_absolute_error\n",
        "from scipy.integrate import odeint\n",
        "from scipy.optimize import minimize\n",
        "from scipy.optimize import Bounds"
      ]
    },
    {
      "cell_type": "code",
      "source": [
        "def d_dzeta_cent_O6(func, ts):\n",
        "    delta_z = ts[1] - ts[0]\n",
        "    f_res = -1*func[:-6] + 9*func[1:-5] - 45*func[2:-4] + 0\\\n",
        "            + 45*func[4:-2] - 9*func[5:-1] + 1*func[6:]\n",
        "    return f_res/(60*delta_z)\n",
        "\n",
        "def d_ddzeta_cent_O6(func, ts):\n",
        "    delta_z = ts[1] - ts[0]\n",
        "    f_res = 2*func[:-6] - 27*func[1:-5] + 270*func[2:-4] - 490*func[3:-3]\\\n",
        "            + 270*func[4:-2] - 27*func[5:-1] + 2*func[6:]\n",
        "    return f_res/(180*delta_z**2)\n",
        "\n",
        "def specific_value(func, val, modif_r):\n",
        "    specific_range = np.where(np.logical_and(func>=val-modif_r, func<=val+modif_r))\n",
        "    return specific_range[0]"
      ],
      "metadata": {
        "id": "UR6ci9fqNZAQ"
      },
      "execution_count": null,
      "outputs": []
    },
    {
      "cell_type": "code",
      "source": [
        "def permutation_list(gamma, num):\n",
        "    gamma_comb = []\n",
        "    gamma_list = list(itertools.combinations(gamma,num))\n",
        "    for gam_one in gamma_list:\n",
        "        temp_gamma = 1\n",
        "        for gam in gam_one:\n",
        "            temp_gamma = temp_gamma * gam\n",
        "        gamma_comb.append(temp_gamma)\n",
        "    return gamma_comb\n",
        "\n",
        "def F_u(u, gamma):\n",
        "    k = len(gamma)\n",
        "    F_u_result = u\n",
        "    for i in range(1,k+2):\n",
        "        F_u_result = F_u_result + \\\n",
        "              (-1)**i * (np.sum(permutation_list(gamma, i-1)) + \\\n",
        "                             np.sum(permutation_list(gamma, i)))*u**(i+1)\n",
        "    return F_u_result\n",
        "\n",
        "def dF_u(u, gamma):\n",
        "    k = len(gamma)\n",
        "    F_u_result = 1\n",
        "    for i in range(1,k+2):\n",
        "        F_u_result = F_u_result + \\\n",
        "              (i+1)*(-1)**i * (np.sum(permutation_list(gamma, i-1)) + \\\n",
        "                             np.sum(permutation_list(gamma, i)))*u**i\n",
        "    return F_u_result"
      ],
      "metadata": {
        "id": "U9VnAXmwNgMZ"
      },
      "execution_count": null,
      "outputs": []
    },
    {
      "cell_type": "code",
      "source": [
        "# Type 1 inverse problem\n",
        "def du_dx_u_q(U, x, eps, V, gamma):\n",
        "    F_u = U[0] * (1-U[0]) \n",
        "    for gam in gamma:\n",
        "        F_u = F_u * (1-gam*U[0])\n",
        "    left_1 = (eps*V*F_u - U[1])/(1 - eps*V**2)\n",
        "    left_2 = (left_1 + U[1])/(eps*V)\n",
        "    return [left_1, left_2]\n",
        "\n",
        "def du_dx_u_q_eps_zero(U, x, eps, V, gamma):\n",
        "    F_u = U[0] * (1-U[0]) \n",
        "    for gam in gamma:\n",
        "        F_u = F_u * (1-gam*U[0])\n",
        "    return [-U[1], F_u - V*U[1]]\n",
        "\n",
        "# Type 2 inverse problem \n",
        "def du_dx(U, x, eps, V, gamma):\n",
        "    F_u = U[0] * (1-U[0]) \n",
        "    for gam in gamma:\n",
        "        F_u = F_u * (1-gam*U[0])\n",
        "        \n",
        "    dF_du = F_u/U[0] - F_u/(1-U[0])\n",
        "    for gam in gamma:\n",
        "        dF_du = dF_du - gam*F_u / (1-gam*U[0])\n",
        "    return [U[1], ((1- eps*dF_du) * V*U[1] + F_u)/(eps*V**2-1)]\n",
        "\n",
        "# Generate ODE output\n",
        "def ODE_UQ(tiny, gamma, V, eps, t_end):\n",
        "    U0 = [1-tiny, -tiny]\n",
        "    ts = np.linspace(0, t_end, 20000)\n",
        "    if eps == 0:\n",
        "        Us = odeint(du_dx_u_q_eps_zero, U0, ts, args=(eps,  V, gamma))\n",
        "    else:\n",
        "        Us = odeint(du_dx_u_q, U0, ts, args=(eps,  V, gamma))\n",
        "    u_res = Us[:,0]\n",
        "    q_res = Us[:,1]\n",
        "    return [u_res, q_res, ts]\n",
        "\n",
        "def ODE_U(tiny, gamma, V, eps, t_end):\n",
        "    U0 = [1-tiny, -tiny]\n",
        "    ts = np.linspace(0, t_end, 20000)\n",
        "    Us = odeint(du_dx, U0, ts, args=(eps,  V, gamma))\n",
        "    u_res = Us[:,0]\n",
        "    du_res = Us[:,1]\n",
        "    return [u_res, du_res, ts]\n",
        "\n",
        "def U_Q_output(gamma, V, eps, t_end):\n",
        "    tiny = 1E-6\n",
        "    u_res, q_res, ts = ODE_UQ(tiny, gamma, V, eps, t_end)\n",
        "    z_upon = specific_value(u_res, 0.95, 0.01)[0]\n",
        "    z_low = specific_value(u_res, 0.05, 0.01)[-1]\n",
        "    u_res_spec = u_res[z_upon:z_low]\n",
        "    q_res_spec = q_res[z_upon:z_low]\n",
        "    u_dz = d_dzeta_cent_O6(u_res_spec, ts)\n",
        "    q_dz = d_dzeta_cent_O6(q_res_spec, ts)\n",
        "    u_spec = u_res_spec[3:-3]\n",
        "    q_spec = q_res_spec[3:-3]\n",
        "    t_spec = ts[z_upon:z_low]\n",
        "    t_spec = t_spec[3:-3]\n",
        "    return u_spec, q_spec, u_dz, q_dz, t_spec\n",
        "\n",
        "def U_output(gamma, V, eps, t_end):\n",
        "    tiny = 1E-6\n",
        "    u_res, q_res, ts = ODE_U(tiny, gamma, V, eps, t_end)\n",
        "    z_upon = specific_value(u_res, 0.95, 0.01)[0]\n",
        "    z_low = specific_value(u_res, 0.05, 0.01)[-1]\n",
        "    u_res_spec = u_res[z_upon:z_low]\n",
        "    u_dz = d_dzeta_cent_O6(u_res_spec, ts)\n",
        "    u_ddz = d_ddzeta_cent_O6(u_res_spec, ts)\n",
        "    u_spec = u_res_spec[3:-3]\n",
        "    t_spec = ts[z_upon:z_low]\n",
        "    t_spec = t_spec[3:-3]\n",
        "    return u_spec, u_dz, u_ddz, t_spec"
      ],
      "metadata": {
        "id": "jxCSJ68INk_f"
      },
      "execution_count": null,
      "outputs": []
    },
    {
      "cell_type": "code",
      "source": [
        "# Two types of optimization problem\n",
        "# Type 1\n",
        "def optimize_gam_UQ(para, u, du, dq, lam):\n",
        "    V = para[0]\n",
        "    gamma = para[1:]\n",
        "    F_u_res = F_u(u, gamma)\n",
        "    right = F_u_res + V*du\n",
        "    zero_norm = np.sum(gamma != 0)\n",
        "    return LA.norm(right - dq) + lam * zero_norm\n",
        "\n",
        "# Type 2\n",
        "def optimize_U(para, u, du, ddu, lam):\n",
        "    eps = para[0]\n",
        "    V = para[1]\n",
        "    gamma = para[2:]\n",
        "    F_u_res = F_u(u, gamma)\n",
        "    dF_u_res = dF_u(u, gamma)\n",
        "    zero_norm = np.sum(gamma != 0)\n",
        "    return LA.norm(ddu*(eps*V**2 - 1) + du*V * (eps*dF_u_res - 1) - F_u_res) + lam * zero_norm\n",
        "\n",
        "def optimize_U_eps0(para, u, du, ddu, lam):\n",
        "    V = para[0]\n",
        "    gamma = para[1:]\n",
        "    F_u_res = F_u(u, gamma)\n",
        "    zero_norm = np.sum(gamma != 0)\n",
        "    return LA.norm(-ddu - du*V- F_u_res) + lam * zero_norm"
      ],
      "metadata": {
        "id": "j3OWR0TWNoKG"
      },
      "execution_count": null,
      "outputs": []
    },
    {
      "cell_type": "code",
      "source": [
        "# Main process of parameter estimation\n",
        "# Type 1, k is the number of Gamma\n",
        "def para_solver_UQ(u, du, dq, k, v_max):\n",
        "    gam0 = np.linspace(1,0,k)\n",
        "    para0 = np.append(v_max, gam0)\n",
        "    lam = 1e-8\n",
        "    bounds = Bounds(np.append(2, np.zeros(k)), np.append(v_max, np.ones(k)))\n",
        "    for i in range(3):\n",
        "        min_res = minimize(optimize_gam_UQ,  para0, args=(u, du , dq, lam), \n",
        "                      method='L-BFGS-B', bounds = bounds, tol=1e-16)\n",
        "        para0 = np.append(min_res.x[0], gam0)\n",
        "    return min_res\n",
        "\n",
        "def eps_solver_UQ(du, q, dq, V0):\n",
        "    return np.mean((du + q) / (V0*dq))\n",
        "\n",
        "# Type 2\n",
        "def para_solver_U(u, du, ddu, k, v_max):\n",
        "    gam0 = np.linspace(1,0,k)\n",
        "    lam = 1e-8\n",
        "    para0 = np.append(v_max, gam0)\n",
        "    bounds = Bounds(np.append(2, np.zeros(k)), np.append(v_max, np.ones(k)))\n",
        "    for j in range(3):\n",
        "        min_res_ini = minimize(optimize_U_eps0,  para0, args=(u, du , ddu, lam), \n",
        "                          method='L-BFGS-B', bounds = bounds, tol=1e-16)\n",
        "        para0 = np.append(min_res_ini.x[0], gam0)\n",
        "        if para0[0] < 2:\n",
        "            para0[0] = 2\n",
        "        elif para0[0] > v_max:\n",
        "            para0[0] = v_max\n",
        "    para0 = np.append(0, [min_res_ini.x])\n",
        "    bounds = Bounds(np.append([0, 2], np.zeros(k)), np.append([0.25, v_max], np.ones(k)))\n",
        "\n",
        "    for i in range(2):\n",
        "        min_res = minimize(optimize_U,  para0, args=(u, du , ddu, lam), \n",
        "                      method='L-BFGS-B', bounds = bounds, tol=1e-16)\n",
        "        para0 = np.append([0, min_res.x[1]], gam0)\n",
        "    return min_res"
      ],
      "metadata": {
        "id": "Q-KdpVUTONT9"
      },
      "execution_count": null,
      "outputs": []
    },
    {
      "cell_type": "code",
      "source": [
        "V_list = np.linspace(2, 5, 4)\n",
        "\n",
        "eps_amount = 2\n",
        "gamma_1 = np.linspace(0, 0.65, 3)\n",
        "gamma_2 = np.linspace(0, 0.55, 2)\n",
        "gamma_3 = np.linspace(0, 0.45, 2)\n",
        "\n",
        "Test_para = {'V':[], 'eps':[], 'gamma':[]}\n",
        "performance_UQ_case = {'V':[], 'eps':[], 'gamma':[],'error':[]}\n",
        "performance_U_case= {'V':[], 'eps':[], 'gamma':[],'error':[]}\n",
        "\n",
        "# Set the range of zeta\n",
        "ts_end = [350, 500, 650, 800]"
      ],
      "metadata": {
        "id": "VatKpbvgOoIC"
      },
      "execution_count": null,
      "outputs": []
    },
    {
      "cell_type": "code",
      "source": [
        "for V in V_list:\n",
        "    eps_list = np.linspace(0,1/V**2, eps_amount+1)[:-1]\n",
        "    for eps in eps_list:\n",
        "        for gamma1 in gamma_1:\n",
        "            for gamma2 in gamma_2:\n",
        "                for gamma3 in gamma_3:\n",
        "                    # Add 0 is easy to calculate RMSE\n",
        "                    gamma = [gamma1, gamma2, gamma3,0,0,0]\n",
        "                    Test_para['V'].append(V)\n",
        "                    Test_para['eps'].append(eps)\n",
        "                    Test_para['gamma'].append(np.sort(gamma)[::-1])"
      ],
      "metadata": {
        "id": "ug6gSIG7Orvn"
      },
      "execution_count": null,
      "outputs": []
    },
    {
      "cell_type": "code",
      "source": [
        "for i in tqdm(range(len(Test_para['V']))):\n",
        "    V = Test_para['V'][i]\n",
        "    eps = Test_para['eps'][i]\n",
        "    gamma = Test_para['gamma'][i]\n",
        "    t_end = ts_end[int(V)-2]\n",
        "    u, q, u_dz, q_dz,_ = U_Q_output(gamma, V, eps, t_end)\n",
        "    u_para = para_solver_UQ(u, u_dz, q_dz, 6, 500)\n",
        "    eps_p = eps_solver_UQ(u_dz, q, q_dz, u_para.x[0])\n",
        "\n",
        "    performance_UQ_case['V'].append(u_para.x[0])\n",
        "    performance_UQ_case['eps'].append(eps_p)\n",
        "    performance_UQ_case['gamma'].append(np.sort(u_para.x[1:])[::-1])\n",
        "    performance_UQ_case['error'].append(u_para.fun)\n",
        "\n",
        "    u, u_dz, u_ddz,_ = U_output(gamma, V, eps, t_end)\n",
        "    u_para = para_solver_U(u, u_dz, u_ddz, 6, 500)\n",
        "\n",
        "    performance_U_case['V'].append(u_para.x[1])\n",
        "    performance_U_case['eps'].append(u_para.x[0])\n",
        "    performance_U_case['gamma'].append(np.sort(u_para.x[2:])[::-1])\n",
        "    performance_U_case['error'].append(u_para.fun)"
      ],
      "metadata": {
        "colab": {
          "base_uri": "https://localhost:8080/"
        },
        "id": "O-jR8xTZOthd",
        "outputId": "66be5acf-0538-4258-e90f-474606741283"
      },
      "execution_count": null,
      "outputs": [
        {
          "output_type": "stream",
          "name": "stderr",
          "text": [
            "100%|██████████| 96/96 [12:34<00:00,  7.86s/it]\n"
          ]
        }
      ]
    },
    {
      "cell_type": "code",
      "source": [
        "print('Type 1 inverse problem RMSE for V:',mean_squared_error(Test_para['V'], performance_UQ_case['V'], squared=False))\n",
        "print('Type 1 inverse problem RMSE for epsilon:',mean_squared_error(Test_para['eps'], performance_UQ_case['eps'], squared=False))\n",
        "print('Type 1 inverse problem RMSE for all gamma:',mean_squared_error(Test_para['gamma'], performance_UQ_case['gamma'], squared=False))"
      ],
      "metadata": {
        "colab": {
          "base_uri": "https://localhost:8080/"
        },
        "id": "l5BgaKQrOvHY",
        "outputId": "206ca210-cb8c-4e9e-f26c-ea36337a545f"
      },
      "execution_count": null,
      "outputs": [
        {
          "output_type": "stream",
          "name": "stdout",
          "text": [
            "Type 1 inverse problem RMSE for V: 9.44203656739451e-06\n",
            "Type 1 inverse problem RMSE for epsilon: 1.7921930718217773e-05\n",
            "Type 1 inverse problem RMSE for all gamma: 0.0023370927756253836\n"
          ]
        }
      ]
    },
    {
      "cell_type": "code",
      "source": [
        "print('Type 2 inverse problem RMSE for V:',mean_squared_error(Test_para['V'], performance_U_case['V'], squared=False))\n",
        "print('Type 2 inverse problem RMSE for epsilon:',mean_squared_error(Test_para['eps'], performance_U_case['eps'], squared=False))\n",
        "print('Type 2 inverse problem RMSE for all gamma:',mean_squared_error(Test_para['gamma'], performance_U_case['gamma'], squared=False))"
      ],
      "metadata": {
        "colab": {
          "base_uri": "https://localhost:8080/"
        },
        "id": "ZPYJbRBwTi4B",
        "outputId": "d9b2e3ef-edd6-4569-90d1-4f7b3844d9d8"
      },
      "execution_count": null,
      "outputs": [
        {
          "output_type": "stream",
          "name": "stdout",
          "text": [
            "Type 2 inverse problem RMSE for V: 2.1938258947601516e-05\n",
            "Type 2 inverse problem RMSE for epsilon: 0.0001538247850870462\n",
            "Type 2 inverse problem RMSE for all gamma: 0.0044348934379889685\n"
          ]
        }
      ]
    },
    {
      "cell_type": "code",
      "source": [],
      "metadata": {
        "id": "IZ6UmXTcTsIB"
      },
      "execution_count": null,
      "outputs": []
    }
  ]
}